{
 "cells": [
  {
   "cell_type": "markdown",
   "id": "89aafb3e",
   "metadata": {},
   "source": [
    "# Python ile Veri Bilimine Giriş - Final Projesi\n",
    "## Anime Veriseti\n",
    "Bu projede \"MyAnimeList Datasets - 2023\" isimli veriseti ele alınmıştır. Anime evreninin IMDB'si olarak kabul edilen MyAnimeList sitesinden alınan verileri içerir. Bu çalışmada bir animenin özelliklerinin; animenin aldığı puan, sıralamadaki yeri, favoriye eklenme sayısı gibi sonuçlarda nasıl bir etkiye sahip olduğu makine öğrenmesi yöntemleriyle açıklanmaya çalışılacaktır. Orijinal web sitesinin url'i: https://myanimelist.net"
   ]
  },
  {
   "cell_type": "code",
   "execution_count": 1,
   "id": "309ddf72",
   "metadata": {},
   "outputs": [],
   "source": [
    "import pandas as pd\n",
    "import matplotlib.pyplot as plt"
   ]
  },
  {
   "cell_type": "markdown",
   "id": "a2feee60",
   "metadata": {},
   "source": [
    "## Verisetine İlk Bakış\n",
    "Verisetini incelediğimizde göze çarpan bazı detaylar mevcut. Animelerin isimleri, kapak fotoğraf url'leri, İngilizce isimleri gibi işimize yaramayacak veriler mevcut. Bu gereksiz sütunların verisetinden çıkarılması gerekmektedir."
   ]
  },
  {
   "cell_type": "code",
   "execution_count": 2,
   "id": "13597e99",
   "metadata": {},
   "outputs": [
    {
     "data": {
      "text/html": [
       "<div>\n",
       "<style scoped>\n",
       "    .dataframe tbody tr th:only-of-type {\n",
       "        vertical-align: middle;\n",
       "    }\n",
       "\n",
       "    .dataframe tbody tr th {\n",
       "        vertical-align: top;\n",
       "    }\n",
       "\n",
       "    .dataframe thead th {\n",
       "        text-align: right;\n",
       "    }\n",
       "</style>\n",
       "<table border=\"1\" class=\"dataframe\">\n",
       "  <thead>\n",
       "    <tr style=\"text-align: right;\">\n",
       "      <th></th>\n",
       "      <th>anime_id</th>\n",
       "      <th>Name</th>\n",
       "      <th>English name</th>\n",
       "      <th>Other name</th>\n",
       "      <th>Score</th>\n",
       "      <th>Genres</th>\n",
       "      <th>Synopsis</th>\n",
       "      <th>Type</th>\n",
       "      <th>Episodes</th>\n",
       "      <th>Aired</th>\n",
       "      <th>...</th>\n",
       "      <th>Studios</th>\n",
       "      <th>Source</th>\n",
       "      <th>Duration</th>\n",
       "      <th>Rating</th>\n",
       "      <th>Rank</th>\n",
       "      <th>Popularity</th>\n",
       "      <th>Favorites</th>\n",
       "      <th>Scored By</th>\n",
       "      <th>Members</th>\n",
       "      <th>Image URL</th>\n",
       "    </tr>\n",
       "  </thead>\n",
       "  <tbody>\n",
       "    <tr>\n",
       "      <th>0</th>\n",
       "      <td>1</td>\n",
       "      <td>Cowboy Bebop</td>\n",
       "      <td>Cowboy Bebop</td>\n",
       "      <td>カウボーイビバップ</td>\n",
       "      <td>8.75</td>\n",
       "      <td>Action, Award Winning, Sci-Fi</td>\n",
       "      <td>Crime is timeless. By the year 2071, humanity ...</td>\n",
       "      <td>TV</td>\n",
       "      <td>26.0</td>\n",
       "      <td>Apr 3, 1998 to Apr 24, 1999</td>\n",
       "      <td>...</td>\n",
       "      <td>Sunrise</td>\n",
       "      <td>Original</td>\n",
       "      <td>24 min per ep</td>\n",
       "      <td>R - 17+ (violence &amp; profanity)</td>\n",
       "      <td>41.0</td>\n",
       "      <td>43</td>\n",
       "      <td>78525</td>\n",
       "      <td>914193.0</td>\n",
       "      <td>1771505</td>\n",
       "      <td>https://cdn.myanimelist.net/images/anime/4/196...</td>\n",
       "    </tr>\n",
       "    <tr>\n",
       "      <th>1</th>\n",
       "      <td>5</td>\n",
       "      <td>Cowboy Bebop: Tengoku no Tobira</td>\n",
       "      <td>Cowboy Bebop: The Movie</td>\n",
       "      <td>カウボーイビバップ 天国の扉</td>\n",
       "      <td>8.38</td>\n",
       "      <td>Action, Sci-Fi</td>\n",
       "      <td>Another day, another bounty—such is the life o...</td>\n",
       "      <td>Movie</td>\n",
       "      <td>1.0</td>\n",
       "      <td>Sep 1, 2001</td>\n",
       "      <td>...</td>\n",
       "      <td>Bones</td>\n",
       "      <td>Original</td>\n",
       "      <td>1 hr 55 min</td>\n",
       "      <td>R - 17+ (violence &amp; profanity)</td>\n",
       "      <td>189.0</td>\n",
       "      <td>602</td>\n",
       "      <td>1448</td>\n",
       "      <td>206248.0</td>\n",
       "      <td>360978</td>\n",
       "      <td>https://cdn.myanimelist.net/images/anime/1439/...</td>\n",
       "    </tr>\n",
       "    <tr>\n",
       "      <th>2</th>\n",
       "      <td>6</td>\n",
       "      <td>Trigun</td>\n",
       "      <td>Trigun</td>\n",
       "      <td>トライガン</td>\n",
       "      <td>8.22</td>\n",
       "      <td>Action, Adventure, Sci-Fi</td>\n",
       "      <td>Vash the Stampede is the man with a $$60,000,0...</td>\n",
       "      <td>TV</td>\n",
       "      <td>26.0</td>\n",
       "      <td>Apr 1, 1998 to Sep 30, 1998</td>\n",
       "      <td>...</td>\n",
       "      <td>Madhouse</td>\n",
       "      <td>Manga</td>\n",
       "      <td>24 min per ep</td>\n",
       "      <td>PG-13 - Teens 13 or older</td>\n",
       "      <td>328.0</td>\n",
       "      <td>246</td>\n",
       "      <td>15035</td>\n",
       "      <td>356739.0</td>\n",
       "      <td>727252</td>\n",
       "      <td>https://cdn.myanimelist.net/images/anime/7/203...</td>\n",
       "    </tr>\n",
       "    <tr>\n",
       "      <th>3</th>\n",
       "      <td>7</td>\n",
       "      <td>Witch Hunter Robin</td>\n",
       "      <td>Witch Hunter Robin</td>\n",
       "      <td>Witch Hunter ROBIN (ウイッチハンターロビン)</td>\n",
       "      <td>7.25</td>\n",
       "      <td>Action, Drama, Mystery, Supernatural</td>\n",
       "      <td>Robin Sena is a powerful craft user drafted in...</td>\n",
       "      <td>TV</td>\n",
       "      <td>26.0</td>\n",
       "      <td>Jul 3, 2002 to Dec 25, 2002</td>\n",
       "      <td>...</td>\n",
       "      <td>Sunrise</td>\n",
       "      <td>Original</td>\n",
       "      <td>25 min per ep</td>\n",
       "      <td>PG-13 - Teens 13 or older</td>\n",
       "      <td>2764.0</td>\n",
       "      <td>1795</td>\n",
       "      <td>613</td>\n",
       "      <td>42829.0</td>\n",
       "      <td>111931</td>\n",
       "      <td>https://cdn.myanimelist.net/images/anime/10/19...</td>\n",
       "    </tr>\n",
       "    <tr>\n",
       "      <th>4</th>\n",
       "      <td>8</td>\n",
       "      <td>Bouken Ou Beet</td>\n",
       "      <td>Beet the Vandel Buster</td>\n",
       "      <td>冒険王ビィト</td>\n",
       "      <td>6.94</td>\n",
       "      <td>Adventure, Fantasy, Supernatural</td>\n",
       "      <td>It is the dark century and the people are suff...</td>\n",
       "      <td>TV</td>\n",
       "      <td>52.0</td>\n",
       "      <td>Sep 30, 2004 to Sep 29, 2005</td>\n",
       "      <td>...</td>\n",
       "      <td>Toei Animation</td>\n",
       "      <td>Manga</td>\n",
       "      <td>23 min per ep</td>\n",
       "      <td>PG - Children</td>\n",
       "      <td>4240.0</td>\n",
       "      <td>5126</td>\n",
       "      <td>14</td>\n",
       "      <td>6413.0</td>\n",
       "      <td>15001</td>\n",
       "      <td>https://cdn.myanimelist.net/images/anime/7/215...</td>\n",
       "    </tr>\n",
       "  </tbody>\n",
       "</table>\n",
       "<p>5 rows × 24 columns</p>\n",
       "</div>"
      ],
      "text/plain": [
       "   anime_id                             Name             English name  \\\n",
       "0         1                     Cowboy Bebop             Cowboy Bebop   \n",
       "1         5  Cowboy Bebop: Tengoku no Tobira  Cowboy Bebop: The Movie   \n",
       "2         6                           Trigun                   Trigun   \n",
       "3         7               Witch Hunter Robin       Witch Hunter Robin   \n",
       "4         8                   Bouken Ou Beet   Beet the Vandel Buster   \n",
       "\n",
       "                         Other name Score  \\\n",
       "0                         カウボーイビバップ  8.75   \n",
       "1                    カウボーイビバップ 天国の扉  8.38   \n",
       "2                             トライガン  8.22   \n",
       "3  Witch Hunter ROBIN (ウイッチハンターロビン)  7.25   \n",
       "4                            冒険王ビィト  6.94   \n",
       "\n",
       "                                 Genres  \\\n",
       "0         Action, Award Winning, Sci-Fi   \n",
       "1                        Action, Sci-Fi   \n",
       "2             Action, Adventure, Sci-Fi   \n",
       "3  Action, Drama, Mystery, Supernatural   \n",
       "4      Adventure, Fantasy, Supernatural   \n",
       "\n",
       "                                            Synopsis   Type Episodes  \\\n",
       "0  Crime is timeless. By the year 2071, humanity ...     TV     26.0   \n",
       "1  Another day, another bounty—such is the life o...  Movie      1.0   \n",
       "2  Vash the Stampede is the man with a $$60,000,0...     TV     26.0   \n",
       "3  Robin Sena is a powerful craft user drafted in...     TV     26.0   \n",
       "4  It is the dark century and the people are suff...     TV     52.0   \n",
       "\n",
       "                          Aired  ...         Studios    Source       Duration  \\\n",
       "0   Apr 3, 1998 to Apr 24, 1999  ...         Sunrise  Original  24 min per ep   \n",
       "1                   Sep 1, 2001  ...           Bones  Original    1 hr 55 min   \n",
       "2   Apr 1, 1998 to Sep 30, 1998  ...        Madhouse     Manga  24 min per ep   \n",
       "3   Jul 3, 2002 to Dec 25, 2002  ...         Sunrise  Original  25 min per ep   \n",
       "4  Sep 30, 2004 to Sep 29, 2005  ...  Toei Animation     Manga  23 min per ep   \n",
       "\n",
       "                           Rating    Rank Popularity Favorites Scored By  \\\n",
       "0  R - 17+ (violence & profanity)    41.0         43     78525  914193.0   \n",
       "1  R - 17+ (violence & profanity)   189.0        602      1448  206248.0   \n",
       "2       PG-13 - Teens 13 or older   328.0        246     15035  356739.0   \n",
       "3       PG-13 - Teens 13 or older  2764.0       1795       613   42829.0   \n",
       "4                   PG - Children  4240.0       5126        14    6413.0   \n",
       "\n",
       "   Members                                          Image URL  \n",
       "0  1771505  https://cdn.myanimelist.net/images/anime/4/196...  \n",
       "1   360978  https://cdn.myanimelist.net/images/anime/1439/...  \n",
       "2   727252  https://cdn.myanimelist.net/images/anime/7/203...  \n",
       "3   111931  https://cdn.myanimelist.net/images/anime/10/19...  \n",
       "4    15001  https://cdn.myanimelist.net/images/anime/7/215...  \n",
       "\n",
       "[5 rows x 24 columns]"
      ]
     },
     "execution_count": 2,
     "metadata": {},
     "output_type": "execute_result"
    }
   ],
   "source": [
    "df = pd.read_csv('anime-dataset-2023.csv')\n",
    "df.head()"
   ]
  },
  {
   "cell_type": "markdown",
   "id": "c49471ef",
   "metadata": {},
   "source": [
    "## Boyut Bilgisi\n",
    "Burada veri setinin boyut bilgisi verilmiştir."
   ]
  },
  {
   "cell_type": "code",
   "execution_count": 3,
   "id": "e5011bd2",
   "metadata": {},
   "outputs": [
    {
     "data": {
      "text/plain": [
       "(24905, 24)"
      ]
     },
     "execution_count": 3,
     "metadata": {},
     "output_type": "execute_result"
    }
   ],
   "source": [
    "df.shape"
   ]
  },
  {
   "cell_type": "markdown",
   "id": "1c4692d6",
   "metadata": {},
   "source": [
    "## Veriseti Hakkında Bilgi\n",
    "Veriseti hakkında genel bilgiler aşağıda verilmiştir."
   ]
  },
  {
   "cell_type": "code",
   "execution_count": 4,
   "id": "0b42f8e2",
   "metadata": {},
   "outputs": [
    {
     "name": "stdout",
     "output_type": "stream",
     "text": [
      "<class 'pandas.core.frame.DataFrame'>\n",
      "RangeIndex: 24905 entries, 0 to 24904\n",
      "Data columns (total 24 columns):\n",
      " #   Column        Non-Null Count  Dtype \n",
      "---  ------        --------------  ----- \n",
      " 0   anime_id      24905 non-null  int64 \n",
      " 1   Name          24905 non-null  object\n",
      " 2   English name  24905 non-null  object\n",
      " 3   Other name    24905 non-null  object\n",
      " 4   Score         24905 non-null  object\n",
      " 5   Genres        24905 non-null  object\n",
      " 6   Synopsis      24905 non-null  object\n",
      " 7   Type          24905 non-null  object\n",
      " 8   Episodes      24905 non-null  object\n",
      " 9   Aired         24905 non-null  object\n",
      " 10  Premiered     24905 non-null  object\n",
      " 11  Status        24905 non-null  object\n",
      " 12  Producers     24905 non-null  object\n",
      " 13  Licensors     24905 non-null  object\n",
      " 14  Studios       24905 non-null  object\n",
      " 15  Source        24905 non-null  object\n",
      " 16  Duration      24905 non-null  object\n",
      " 17  Rating        24905 non-null  object\n",
      " 18  Rank          24905 non-null  object\n",
      " 19  Popularity    24905 non-null  int64 \n",
      " 20  Favorites     24905 non-null  int64 \n",
      " 21  Scored By     24905 non-null  object\n",
      " 22  Members       24905 non-null  int64 \n",
      " 23  Image URL     24905 non-null  object\n",
      "dtypes: int64(4), object(20)\n",
      "memory usage: 4.6+ MB\n"
     ]
    }
   ],
   "source": [
    "df.info()"
   ]
  },
  {
   "cell_type": "markdown",
   "id": "53fdbf6e",
   "metadata": {},
   "source": [
    "## Veri Görselleştirme\n",
    "Bir sütundaki verilerin dağılımını gözlemlemek için grafikler kullanarak fikir sahibi olunabilir. Burada \"Genres\" sütununun değerlerine bir genel bakış yapılmıştır. En çok gözlenen türün komedi, en az gözlenen türün sports olduğu gözleniyor. Ayrıca oldukça fazla sayıda unknown veri olduğu göze çarpıyor. İlerleyen satırlarda bu konuda çözümler geliştirilecektir. "
   ]
  },
  {
   "cell_type": "code",
   "execution_count": 5,
   "id": "edfd6927",
   "metadata": {},
   "outputs": [
    {
     "data": {
      "image/png": "[encoded data removed]",
      "text/plain": [
       "<Figure size 640x480 with 1 Axes>"
      ]
     },
     "metadata": {},
     "output_type": "display_data"
    }
   ],
   "source": [
    "genre_counts = df['Genres'].str.split(', ').explode().value_counts()\n",
    "top_genres = genre_counts.head(15)\n",
    "ax = top_genres.plot.barh()\n",
    "ax.set_xlabel('Count')\n",
    "ax.set_ylabel('Genres')\n",
    "ax.set_title('Top 15 Genres Count')\n",
    "plt.show()"
   ]
  },
  {
   "cell_type": "markdown",
   "id": "66572950",
   "metadata": {},
   "source": [
    "## Veri Görselleştirme - 2\n",
    "Burada animelerin sahip olduğu önerilen izleyici kitlelerini içeren sütun ele alınmıştır."
   ]
  },
  {
   "cell_type": "code",
   "execution_count": 6,
   "id": "f535d040",
   "metadata": {},
   "outputs": [
    {
     "data": {
      "image/png": "[encoded data removed]",
      "text/plain": [
       "<Figure size 640x480 with 1 Axes>"
      ]
     },
     "metadata": {},
     "output_type": "display_data"
    }
   ],
   "source": [
    "genre_counts = df['Rating'].str.split(', ').explode().value_counts()\n",
    "top_genres = genre_counts.head(7)\n",
    "ax = top_genres.plot.barh()\n",
    "ax.set_xlabel('Count')\n",
    "ax.set_ylabel('Ratings')\n",
    "ax.set_title('Top 7 Ratings Count')\n",
    "plt.show()"
   ]
  },
  {
   "cell_type": "markdown",
   "id": "f401d35c",
   "metadata": {},
   "source": [
    "## Sütun Silme\n",
    "Burada işimize yaramayacak ve geçersiz olan sütunları siliyoruz."
   ]
  },
  {
   "cell_type": "code",
   "execution_count": 7,
   "id": "868bec68",
   "metadata": {},
   "outputs": [],
   "source": [
    "df.drop(columns=['anime_id', 'Name', 'English name', 'Other name', 'Synopsis', 'Aired', 'Premiered', 'Producers', 'Licensors', 'Studios', 'Duration', 'Image URL'], inplace=True)"
   ]
  },
  {
   "cell_type": "markdown",
   "id": "e26968a1",
   "metadata": {},
   "source": [
    "## Aykırı Değerlerleri Temizlemek\n",
    "Burada \"Status\" sütunu \"Finished Airing\" olmayan satırları çıkarıyoruz. Çünkü henüz tamamlanmamış ve çıkmamış animelerin verileri stabil değildir."
   ]
  },
  {
   "cell_type": "code",
   "execution_count": 8,
   "id": "6bc846ca",
   "metadata": {},
   "outputs": [
    {
     "data": {
      "text/plain": [
       "(24070, 12)"
      ]
     },
     "execution_count": 8,
     "metadata": {},
     "output_type": "execute_result"
    }
   ],
   "source": [
    "def filter_func(x):\n",
    "    return x['Status'] == 'Finished Airing'\n",
    "df = df[df.apply(filter_func, axis=1)]\n",
    "df.shape"
   ]
  },
  {
   "cell_type": "markdown",
   "id": "86bc3b6b",
   "metadata": {},
   "source": [
    "## Gereksiz Sütunları Kaldırmak\n",
    "\"Status\" değeri \"Not yet aired\" ve \"Currently Airing\" olan değerleri çıkardığımızdan dolayı şu an Status sütunundaki tüm değerler \"Finished Airing\" durumundadır. Bu da bizim için ayırt edici olmadığı için bu sütunu artık kaldırabiliriz."
   ]
  },
  {
   "cell_type": "code",
   "execution_count": 9,
   "id": "b3acaae1",
   "metadata": {},
   "outputs": [],
   "source": [
    "df.drop(columns=['Status'], inplace=True)"
   ]
  },
  {
   "cell_type": "markdown",
   "id": "a942fdad",
   "metadata": {},
   "source": [
    "## Eksik Verilerden Kurtulmak\n",
    "Bu verisetinde bazı animeler hakkında birçok bilgiye erişilemiyor. Bahsedilen animelerin birçok sütunu 'UNKNOWN' değerlerine sahip. Bu yüzden 'UNKNOWN' değere sahip olan verileri verisetinden çıkarıyoruz ve daha kararlı bir veriseti elde etmiş oluyoruz."
   ]
  },
  {
   "cell_type": "code",
   "execution_count": 10,
   "id": "9fcac170",
   "metadata": {},
   "outputs": [
    {
     "data": {
      "text/plain": [
       "(11840, 11)"
      ]
     },
     "execution_count": 10,
     "metadata": {},
     "output_type": "execute_result"
    }
   ],
   "source": [
    "mask = df.applymap(lambda x: x == 'UNKNOWN').any(axis=1)\n",
    "df = df[~mask]\n",
    "df.shape"
   ]
  },
  {
   "cell_type": "markdown",
   "id": "bc8bf000",
   "metadata": {},
   "source": [
    "## Kategorizasyon\n",
    "Burada \"Genres\" ismindeki sütun bir animenin ait olduğu tür etiketlerini barındırmaktadır. Bir anime birden çok türle temsil edilebileceği için dummy yöntemiyle her bir türü bir sütun haline getiriyoruz. Bu sayede tür sutunları içerisinde bir animenin ait olduğu türler 1, ait olmadığı türler 0 ile temsil edilecek."
   ]
  },
  {
   "cell_type": "code",
   "execution_count": 11,
   "id": "fd9fc2ac",
   "metadata": {},
   "outputs": [
    {
     "data": {
      "text/plain": [
       "(11840, 29)"
      ]
     },
     "execution_count": 11,
     "metadata": {},
     "output_type": "execute_result"
    }
   ],
   "source": [
    "genres_dummies = df['Genres'].str.get_dummies(', ')\n",
    "df = pd.concat([df, genres_dummies], axis=1)\n",
    "df.drop(columns=['Genres'], inplace=True)\n",
    "df.shape"
   ]
  },
  {
   "cell_type": "code",
   "execution_count": 12,
   "id": "f5ab51db",
   "metadata": {},
   "outputs": [
    {
     "data": {
      "text/plain": [
       "Index(['Score', 'Type', 'Episodes', 'Source', 'Rating', 'Rank', 'Popularity',\n",
       "       'Favorites', 'Scored By', 'Members', 'Action', 'Adventure',\n",
       "       'Avant Garde', 'Award Winning', 'Boys Love', 'Comedy', 'Drama', 'Ecchi',\n",
       "       'Fantasy', 'Girls Love', 'Gourmet', 'Horror', 'Mystery', 'Romance',\n",
       "       'Sci-Fi', 'Slice of Life', 'Sports', 'Supernatural', 'Suspense'],\n",
       "      dtype='object')"
      ]
     },
     "execution_count": 12,
     "metadata": {},
     "output_type": "execute_result"
    }
   ],
   "source": [
    "df.columns"
   ]
  },
  {
   "cell_type": "markdown",
   "id": "77e4f2db",
   "metadata": {},
   "source": [
    "## Yanıltıcı Verilerin Çıkarılması\n",
    "Verisetinde bulunmaması gereken bir türü çıkarıyoruz. Bu türden sadece 2 adet veri olduğu için verisetinden çıkarmamız olumsuz sonuç yaratmayacaktır."
   ]
  },
  {
   "cell_type": "code",
   "execution_count": 13,
   "id": "53098610",
   "metadata": {},
   "outputs": [],
   "source": [
    "search_word = 'Rx - Hentai'\n",
    "contains_word = df['Rating'].str.contains(search_word, case=False, na=False)\n",
    "df = df[~contains_word]"
   ]
  },
  {
   "cell_type": "markdown",
   "id": "9b9479a5",
   "metadata": {},
   "source": [
    "## İzleyici Yaş Kitlesi\n",
    "\"Rating\" isimli bu sütun, animenin hangi yaş kitlesi için uygun olduğu bilgisini içerir. Her animenin ait olduğu yalnızca bir adet rating bulunduğu için label encoding yapılarak sayısal veriye dönüştürülmüştür."
   ]
  },
  {
   "cell_type": "code",
   "execution_count": 14,
   "id": "65a80501",
   "metadata": {},
   "outputs": [],
   "source": [
    "df['Guidance'] = df['Rating'].map({'PG-13 - Teens 13 or older' : 0, 'G - All Ages': 1, 'PG - Children': 2, 'R - 17+ (violence & profanity)': 3})"
   ]
  },
  {
   "cell_type": "code",
   "execution_count": 15,
   "id": "025f76dc",
   "metadata": {},
   "outputs": [
    {
     "data": {
      "text/plain": [
       "0        3.0\n",
       "1        3.0\n",
       "2        0.0\n",
       "3        0.0\n",
       "4        2.0\n",
       "        ... \n",
       "11833    0.0\n",
       "11834    0.0\n",
       "11835    0.0\n",
       "11836    0.0\n",
       "11837    0.0\n",
       "Name: Guidance, Length: 11838, dtype: float64"
      ]
     },
     "execution_count": 15,
     "metadata": {},
     "output_type": "execute_result"
    }
   ],
   "source": [
    "df.drop(columns=['Rating'], inplace=True)\n",
    "df = df.reset_index(drop=True)\n",
    "df['Guidance']"
   ]
  },
  {
   "cell_type": "code",
   "execution_count": 16,
   "id": "bc3dd3e9",
   "metadata": {},
   "outputs": [
    {
     "data": {
      "text/plain": [
       "0        3.0\n",
       "1        3.0\n",
       "2        0.0\n",
       "3        0.0\n",
       "4        2.0\n",
       "        ... \n",
       "10874    0.0\n",
       "10875    0.0\n",
       "10876    0.0\n",
       "10877    0.0\n",
       "10878    0.0\n",
       "Name: Guidance, Length: 10879, dtype: float64"
      ]
     },
     "execution_count": 16,
     "metadata": {},
     "output_type": "execute_result"
    }
   ],
   "source": [
    "df.dropna(subset=['Guidance'], inplace=True)\n",
    "df = df.reset_index(drop=True)\n",
    "df['Guidance']"
   ]
  },
  {
   "cell_type": "markdown",
   "id": "9e64edbd",
   "metadata": {},
   "source": [
    "## Çıkış Formatı\n",
    "Animelerin gösterildikleri platformlar (çıkış türleri) metinsel ifadeler ile temsil edilmektedir. Bu ifadeler label encoding ile sayısal değerlere çevrilmelidir."
   ]
  },
  {
   "cell_type": "code",
   "execution_count": 17,
   "id": "e3876024",
   "metadata": {},
   "outputs": [],
   "source": [
    "df['Platform'] = df['Type'].map({'TV' : 0, 'Movie': 1, 'OVA': 2, 'ONA': 3, 'Music':4})\n",
    "df.drop(columns=['Type'], inplace=True)"
   ]
  },
  {
   "cell_type": "markdown",
   "id": "9b2cd2a1",
   "metadata": {},
   "source": [
    "## NaN Değerleri Çıkarma\n",
    "Bu sütunda değeri NaN olan satırlar mevcut olduğundan dolayı bu satırları verisetinden çıkarıp indekslerini sıfırlıyoruz."
   ]
  },
  {
   "cell_type": "code",
   "execution_count": 18,
   "id": "76f0cc67",
   "metadata": {},
   "outputs": [
    {
     "data": {
      "text/plain": [
       "0        0.0\n",
       "1        1.0\n",
       "2        0.0\n",
       "3        0.0\n",
       "4        0.0\n",
       "        ... \n",
       "10874    NaN\n",
       "10875    2.0\n",
       "10876    NaN\n",
       "10877    3.0\n",
       "10878    NaN\n",
       "Name: Platform, Length: 10879, dtype: float64"
      ]
     },
     "execution_count": 18,
     "metadata": {},
     "output_type": "execute_result"
    }
   ],
   "source": [
    "df['Platform']"
   ]
  },
  {
   "cell_type": "code",
   "execution_count": 19,
   "id": "813e23a0",
   "metadata": {},
   "outputs": [],
   "source": [
    "df.dropna(subset=['Platform'], inplace=True)"
   ]
  },
  {
   "cell_type": "code",
   "execution_count": 20,
   "id": "458f4810",
   "metadata": {},
   "outputs": [
    {
     "data": {
      "text/plain": [
       "0        0.0\n",
       "1        1.0\n",
       "2        0.0\n",
       "3        0.0\n",
       "4        0.0\n",
       "        ... \n",
       "10868    3.0\n",
       "10869    3.0\n",
       "10873    3.0\n",
       "10875    2.0\n",
       "10877    3.0\n",
       "Name: Platform, Length: 9141, dtype: float64"
      ]
     },
     "execution_count": 20,
     "metadata": {},
     "output_type": "execute_result"
    }
   ],
   "source": [
    "df['Platform']"
   ]
  },
  {
   "cell_type": "code",
   "execution_count": 21,
   "id": "27ceda6f",
   "metadata": {},
   "outputs": [
    {
     "data": {
      "text/plain": [
       "0       0.0\n",
       "1       1.0\n",
       "2       0.0\n",
       "3       0.0\n",
       "4       0.0\n",
       "       ... \n",
       "9136    3.0\n",
       "9137    3.0\n",
       "9138    3.0\n",
       "9139    2.0\n",
       "9140    3.0\n",
       "Name: Platform, Length: 9141, dtype: float64"
      ]
     },
     "execution_count": 21,
     "metadata": {},
     "output_type": "execute_result"
    }
   ],
   "source": [
    "df = df.reset_index(drop=True)\n",
    "df['Platform']"
   ]
  },
  {
   "cell_type": "markdown",
   "id": "a42905ed",
   "metadata": {},
   "source": [
    "## Çıkış Kaynağı\n",
    "Animelerin hangi kaynaktan uyarlandığının göstergesidir. Metinsel veriler içerir, bu yüzden sayısal verilere çevirilmesi için label encoding yapılması gerekmektedir."
   ]
  },
  {
   "cell_type": "code",
   "execution_count": 22,
   "id": "0e3810de",
   "metadata": {},
   "outputs": [
    {
     "data": {
      "text/plain": [
       "0       0.0\n",
       "1       0.0\n",
       "2       1.0\n",
       "3       0.0\n",
       "4       1.0\n",
       "       ... \n",
       "9136    2.0\n",
       "9137    NaN\n",
       "9138    2.0\n",
       "9139    2.0\n",
       "9140    2.0\n",
       "Name: Based, Length: 9141, dtype: float64"
      ]
     },
     "execution_count": 22,
     "metadata": {},
     "output_type": "execute_result"
    }
   ],
   "source": [
    "df['Based'] = df['Source'].map({'Original' : 0, 'Manga': 1, 'Game': 2, 'Visual novel': 3})\n",
    "df.drop(columns=['Source'], inplace=True)\n",
    "df['Based']"
   ]
  },
  {
   "cell_type": "markdown",
   "id": "c32eb32a",
   "metadata": {},
   "source": [
    "## NaN Değerleri Çıkarma\n",
    "Bu sütunda değeri NaN olan satırlar mevcut olduğundan dolayı bu satırları verisetinden çıkarıp indekslerini sıfırlıyoruz."
   ]
  },
  {
   "cell_type": "code",
   "execution_count": 23,
   "id": "3e3a8562",
   "metadata": {},
   "outputs": [
    {
     "data": {
      "text/plain": [
       "0       0.0\n",
       "1       0.0\n",
       "2       1.0\n",
       "3       0.0\n",
       "4       1.0\n",
       "       ... \n",
       "6054    1.0\n",
       "6055    2.0\n",
       "6056    2.0\n",
       "6057    2.0\n",
       "6058    2.0\n",
       "Name: Based, Length: 6059, dtype: float64"
      ]
     },
     "execution_count": 23,
     "metadata": {},
     "output_type": "execute_result"
    }
   ],
   "source": [
    "df.dropna(subset=['Based'], inplace=True)\n",
    "df = df.reset_index(drop=True)\n",
    "df['Based']"
   ]
  },
  {
   "cell_type": "markdown",
   "id": "fccd0d0e",
   "metadata": {},
   "source": [
    "## Boş Değer Kontrolü\n",
    "Burada herhangi bir sütunun boş değerlere sahip olup olmadığının kontrolünü yapıyoruz. Boş değere sahip herhangi bir sütun mevcut olmadığından bir sonraki aşamaya geçilebilir."
   ]
  },
  {
   "cell_type": "code",
   "execution_count": 24,
   "id": "fca71da0",
   "metadata": {},
   "outputs": [
    {
     "data": {
      "text/plain": [
       "Score            0\n",
       "Episodes         0\n",
       "Rank             0\n",
       "Popularity       0\n",
       "Favorites        0\n",
       "Scored By        0\n",
       "Members          0\n",
       "Action           0\n",
       "Adventure        0\n",
       "Avant Garde      0\n",
       "Award Winning    0\n",
       "Boys Love        0\n",
       "Comedy           0\n",
       "Drama            0\n",
       "Ecchi            0\n",
       "Fantasy          0\n",
       "Girls Love       0\n",
       "Gourmet          0\n",
       "Horror           0\n",
       "Mystery          0\n",
       "Romance          0\n",
       "Sci-Fi           0\n",
       "Slice of Life    0\n",
       "Sports           0\n",
       "Supernatural     0\n",
       "Suspense         0\n",
       "Guidance         0\n",
       "Platform         0\n",
       "Based            0\n",
       "dtype: int64"
      ]
     },
     "execution_count": 24,
     "metadata": {},
     "output_type": "execute_result"
    }
   ],
   "source": [
    "df.isnull().sum()"
   ]
  },
  {
   "cell_type": "markdown",
   "id": "cb04a4e7",
   "metadata": {},
   "source": [
    "## Skor (Hedef) Sütuna Genel Bir Bakış\n",
    "Bu projenin ana amacı olan \"Score\" bilgisini tahmin etmek olduğundan dolayı öncelikle bu sütunu incelemek ve anlamak oldukça faydalı olacaktır."
   ]
  },
  {
   "cell_type": "code",
   "execution_count": 25,
   "id": "a79c4f2c",
   "metadata": {},
   "outputs": [
    {
     "data": {
      "text/plain": [
       "0       8.75\n",
       "1       8.38\n",
       "2       8.22\n",
       "3       7.25\n",
       "4       6.94\n",
       "        ... \n",
       "6054    6.51\n",
       "6055    5.82\n",
       "6056    6.09\n",
       "6057    7.78\n",
       "6058    5.99\n",
       "Name: Score, Length: 6059, dtype: object"
      ]
     },
     "execution_count": 25,
     "metadata": {},
     "output_type": "execute_result"
    }
   ],
   "source": [
    "df['Score']"
   ]
  },
  {
   "cell_type": "markdown",
   "id": "f27827a3",
   "metadata": {},
   "source": [
    "## Veri Tipini Güncelleme\n",
    "Yukarıda görüldüğü üzere \"Score\" sütunu object veri tipinde. Matematiksel işlemleri uygulayabilmemiz için öncelikle veri tipini float olarak güncellememiz gerekmektedir."
   ]
  },
  {
   "cell_type": "code",
   "execution_count": 26,
   "id": "25707fb7",
   "metadata": {},
   "outputs": [],
   "source": [
    "df['Score'] = df['Score'].astype(float)"
   ]
  },
  {
   "cell_type": "code",
   "execution_count": 27,
   "id": "7e341c9b",
   "metadata": {},
   "outputs": [
    {
     "name": "stdout",
     "output_type": "stream",
     "text": [
      "Animelerin tamamında gözlenen değerler:\n",
      "Ortalama Skor: 6.593545139461957\n",
      "Minimum Skor: 1.85\n",
      "Maksimum Skor: 9.1\n",
      "Standart Sapma: 0.9912342991715611\n"
     ]
    }
   ],
   "source": [
    "print(\"Animelerin tamamında gözlenen değerler:\")\n",
    "print(\"Ortalama Skor: \" + str(df['Score'].mean()))\n",
    "print(\"Minimum Skor: \" + str(df['Score'].min()))\n",
    "print(\"Maksimum Skor: \" + str(df['Score'].max()))\n",
    "print(\"Standart Sapma: \" + str(df['Score'].std()))"
   ]
  },
  {
   "cell_type": "code",
   "execution_count": 28,
   "id": "c85b87f4",
   "metadata": {},
   "outputs": [],
   "source": [
    "#df.cut = df.cut.astype(CategoricalDtype(ordered = True)) BUNU KULLANMAM GEREKİYOR OLABİLİR???"
   ]
  },
  {
   "cell_type": "code",
   "execution_count": 30,
   "id": "4d3f78a0",
   "metadata": {},
   "outputs": [
    {
     "data": {
      "text/plain": [
       "(6059, 29)"
      ]
     },
     "execution_count": 30,
     "metadata": {},
     "output_type": "execute_result"
    }
   ],
   "source": [
    "df.shape"
   ]
  },
  {
   "cell_type": "code",
   "execution_count": null,
   "id": "01827bf8",
   "metadata": {},
   "outputs": [],
   "source": []
  }
 ],
 "metadata": {
  "kernelspec": {
   "display_name": "Python 3 (ipykernel)",
   "language": "python",
   "name": "python3"
  },
  "language_info": {
   "codemirror_mode": {
    "name": "ipython",
    "version": 3
   },
   "file_extension": ".py",
   "mimetype": "text/x-python",
   "name": "python",
   "nbconvert_exporter": "python",
   "pygments_lexer": "ipython3",
   "version": "3.11.5"
  }
 },
 "nbformat": 4,
 "nbformat_minor": 5
}
